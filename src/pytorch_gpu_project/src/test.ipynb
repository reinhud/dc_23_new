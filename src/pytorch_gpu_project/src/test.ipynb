{
 "cells": [
  {
   "cell_type": "code",
   "execution_count": 61,
   "metadata": {},
   "outputs": [
    {
     "name": "stdout",
     "output_type": "stream",
     "text": [
      "The autoreload extension is already loaded. To reload it, use:\n",
      "  %reload_ext autoreload\n"
     ]
    }
   ],
   "source": [
    "from src.utils.model_manager import ModelManager\n",
    "from src.inference.timm_inferer_new import TimmInferer\n",
    "\n",
    "\n",
    "import timm\n",
    "import torch\n",
    "\n",
    "%load_ext autoreload\n",
    "%autoreload 2"
   ]
  },
  {
   "cell_type": "code",
   "execution_count": 62,
   "metadata": {},
   "outputs": [],
   "source": [
    "checkpoint = torch.load(\"output/training/resnet50/2023-07-13 20:34:08/best_model.pt\")\n",
    "num_classes = checkpoint[\"model_state_dict\"][\"fc.weight\"].shape[0]"
   ]
  },
  {
   "cell_type": "code",
   "execution_count": 63,
   "metadata": {},
   "outputs": [],
   "source": [
    "model = timm.create_model(\n",
    "    \"resnet50\",\n",
    "    pretrained=True,\n",
    "    num_classes=num_classes,\n",
    "    #checkpoint_path=\"output/training/resnet50/2023-07-13 20:34:08/best_model.pt\",\n",
    ")"
   ]
  },
  {
   "cell_type": "code",
   "execution_count": 64,
   "metadata": {},
   "outputs": [
    {
     "data": {
      "text/plain": [
       "tensor([[-1.0721e-02,  1.6465e-02,  1.1775e-02,  ..., -4.2862e-03,\n",
       "          1.9144e-02,  3.6219e-03],\n",
       "        [ 5.6148e-03,  1.8188e-02,  9.0577e-03,  ...,  1.4717e-02,\n",
       "          2.3841e-03, -9.0022e-03],\n",
       "        [-2.8744e-03,  6.6705e-04,  2.0147e-02,  ..., -1.3915e-03,\n",
       "          1.5638e-02,  5.9280e-03],\n",
       "        ...,\n",
       "        [-9.1034e-03,  1.7483e-02, -1.2960e-02,  ..., -9.0803e-03,\n",
       "         -1.9434e-02, -1.0448e-02],\n",
       "        [ 1.8976e-02, -1.9539e-02, -1.1735e-02,  ..., -2.0189e-02,\n",
       "         -1.7385e-02,  8.8877e-05],\n",
       "        [ 1.1311e-02,  1.6956e-02, -2.1443e-03,  ..., -5.7373e-03,\n",
       "          1.9738e-02, -1.4970e-02]])"
      ]
     },
     "execution_count": 64,
     "metadata": {},
     "output_type": "execute_result"
    }
   ],
   "source": [
    "a = model.state_dict()[\"fc.weight\"]\n",
    "a"
   ]
  },
  {
   "cell_type": "code",
   "execution_count": 65,
   "metadata": {},
   "outputs": [
    {
     "data": {
      "text/plain": [
       "<All keys matched successfully>"
      ]
     },
     "execution_count": 65,
     "metadata": {},
     "output_type": "execute_result"
    }
   ],
   "source": [
    "model.load_state_dict(checkpoint[\"model_state_dict\"])"
   ]
  },
  {
   "cell_type": "code",
   "execution_count": 66,
   "metadata": {},
   "outputs": [
    {
     "data": {
      "text/plain": [
       "tensor([[-0.0130,  0.0074,  0.0142,  ..., -0.0211, -0.0137,  0.0165],\n",
       "        [ 0.0066,  0.0173, -0.0205,  ..., -0.0072, -0.0193, -0.0067],\n",
       "        [ 0.0206, -0.0201, -0.0208,  ...,  0.0113, -0.0169,  0.0177],\n",
       "        ...,\n",
       "        [-0.0023, -0.0026, -0.0197,  ..., -0.0007,  0.0160,  0.0006],\n",
       "        [-0.0197,  0.0004,  0.0161,  ..., -0.0120,  0.0103,  0.0022],\n",
       "        [-0.0213,  0.0036,  0.0206,  ...,  0.0056, -0.0204,  0.0048]])"
      ]
     },
     "execution_count": 66,
     "metadata": {},
     "output_type": "execute_result"
    }
   ],
   "source": [
    "b = model.state_dict()[\"fc.weight\"]\n",
    "b"
   ]
  }
 ],
 "metadata": {
  "kernelspec": {
   "display_name": "Python 3",
   "language": "python",
   "name": "python3"
  },
  "language_info": {
   "codemirror_mode": {
    "name": "ipython",
    "version": 3
   },
   "file_extension": ".py",
   "mimetype": "text/x-python",
   "name": "python",
   "nbconvert_exporter": "python",
   "pygments_lexer": "ipython3",
   "version": "3.9.16"
  },
  "orig_nbformat": 4
 },
 "nbformat": 4,
 "nbformat_minor": 2
}
