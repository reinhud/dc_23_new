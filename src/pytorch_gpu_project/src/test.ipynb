{
 "cells": [
  {
   "cell_type": "code",
   "execution_count": 355,
   "metadata": {},
   "outputs": [
    {
     "name": "stdout",
     "output_type": "stream",
     "text": [
      "The autoreload extension is already loaded. To reload it, use:\n",
      "  %reload_ext autoreload\n"
     ]
    }
   ],
   "source": [
    "from src.utils.model_manager import ModelManager\n",
    "from src.inference.timm_inferer_new import TimmInferer\n",
    "\n",
    "%load_ext autoreload\n",
    "%autoreload 2"
   ]
  },
  {
   "cell_type": "code",
   "execution_count": 356,
   "metadata": {},
   "outputs": [],
   "source": [
    "timm_inferer = TimmInferer(model_name=\"resnet34\")"
   ]
  },
  {
   "cell_type": "code",
   "execution_count": 357,
   "metadata": {},
   "outputs": [
    {
     "name": "stdout",
     "output_type": "stream",
     "text": [
      "Loading model: resnet34 from state dict: src/output/training/resnet34/2023-07-13 20:25:34/best_model.pt\n"
     ]
    },
    {
     "name": "stderr",
     "output_type": "stream",
     "text": [
      "No checkpoint found at 'src/output/training/resnet34/2023-07-13 20:25:34/best_model.pt'\n"
     ]
    },
    {
     "ename": "RuntimeError",
     "evalue": "Unable to build best model: resnet34 from train history.",
     "output_type": "error",
     "traceback": [
      "\u001b[0;31m---------------------------------------------------------------------------\u001b[0m",
      "\u001b[0;31mFileNotFoundError\u001b[0m                         Traceback (most recent call last)",
      "File \u001b[0;32m/workspace/src/pytorch_gpu_project/src/inference/timm_inferer_new.py:36\u001b[0m, in \u001b[0;36mTimmInferer.load_model\u001b[0;34m(self, watch_metric, greater_is_better)\u001b[0m\n\u001b[1;32m     35\u001b[0m \u001b[39mtry\u001b[39;00m:\n\u001b[0;32m---> 36\u001b[0m     model \u001b[39m=\u001b[39m timm\u001b[39m.\u001b[39;49mcreate_model(\n\u001b[1;32m     37\u001b[0m         \u001b[39mself\u001b[39;49m\u001b[39m.\u001b[39;49mmodel_name,\n\u001b[1;32m     38\u001b[0m         pretrained\u001b[39m=\u001b[39;49m\u001b[39mFalse\u001b[39;49;00m,\n\u001b[1;32m     39\u001b[0m         checkpoint_path\u001b[39m=\u001b[39;49mbest_model_info[\u001b[39m\"\u001b[39;49m\u001b[39mstate_dict_path\u001b[39;49m\u001b[39m\"\u001b[39;49m],\n\u001b[1;32m     40\u001b[0m     )\n\u001b[1;32m     41\u001b[0m     \u001b[39mprint\u001b[39m(\u001b[39mf\u001b[39m\u001b[39m\"\u001b[39m\u001b[39mLoaded model: \u001b[39m\u001b[39m{\u001b[39;00m\u001b[39mself\u001b[39m\u001b[39m.\u001b[39mmodel_name\u001b[39m}\u001b[39;00m\u001b[39m from training run: \u001b[39m\u001b[39m{\u001b[39;00mbest_model_info[\u001b[39m'\u001b[39m\u001b[39mmodel_name\u001b[39m\u001b[39m'\u001b[39m]\u001b[39m}\u001b[39;00m\u001b[39m\"\u001b[39m)\n",
      "File \u001b[0;32m/usr/local/lib/python3.9/site-packages/timm/models/_factory.py:122\u001b[0m, in \u001b[0;36mcreate_model\u001b[0;34m(model_name, pretrained, pretrained_cfg, pretrained_cfg_overlay, checkpoint_path, scriptable, exportable, no_jit, **kwargs)\u001b[0m\n\u001b[1;32m    121\u001b[0m \u001b[39mif\u001b[39;00m checkpoint_path:\n\u001b[0;32m--> 122\u001b[0m     load_checkpoint(model, checkpoint_path)\n\u001b[1;32m    124\u001b[0m \u001b[39mreturn\u001b[39;00m model\n",
      "File \u001b[0;32m/usr/local/lib/python3.9/site-packages/timm/models/_helpers.py:79\u001b[0m, in \u001b[0;36mload_checkpoint\u001b[0;34m(model, checkpoint_path, use_ema, device, strict, remap, filter_fn)\u001b[0m\n\u001b[1;32m     77\u001b[0m     \u001b[39mreturn\u001b[39;00m\n\u001b[0;32m---> 79\u001b[0m state_dict \u001b[39m=\u001b[39m load_state_dict(checkpoint_path, use_ema, device\u001b[39m=\u001b[39;49mdevice)\n\u001b[1;32m     80\u001b[0m \u001b[39mif\u001b[39;00m remap:\n",
      "File \u001b[0;32m/usr/local/lib/python3.9/site-packages/timm/models/_helpers.py:59\u001b[0m, in \u001b[0;36mload_state_dict\u001b[0;34m(checkpoint_path, use_ema, device)\u001b[0m\n\u001b[1;32m     58\u001b[0m _logger\u001b[39m.\u001b[39merror(\u001b[39m\"\u001b[39m\u001b[39mNo checkpoint found at \u001b[39m\u001b[39m'\u001b[39m\u001b[39m{}\u001b[39;00m\u001b[39m'\u001b[39m\u001b[39m\"\u001b[39m\u001b[39m.\u001b[39mformat(checkpoint_path))\n\u001b[0;32m---> 59\u001b[0m \u001b[39mraise\u001b[39;00m \u001b[39mFileNotFoundError\u001b[39;00m()\n",
      "\u001b[0;31mFileNotFoundError\u001b[0m: ",
      "\nDuring handling of the above exception, another exception occurred:\n",
      "\u001b[0;31mRuntimeError\u001b[0m                              Traceback (most recent call last)",
      "Cell \u001b[0;32mIn[357], line 1\u001b[0m\n\u001b[0;32m----> 1\u001b[0m model \u001b[39m=\u001b[39m timm_inferer\u001b[39m.\u001b[39;49mload_model(watch_metric\u001b[39m=\u001b[39;49m\u001b[39m\"\u001b[39;49m\u001b[39maccuracy\u001b[39;49m\u001b[39m\"\u001b[39;49m, greater_is_better\u001b[39m=\u001b[39;49m\u001b[39mTrue\u001b[39;49;00m)\n",
      "File \u001b[0;32m/workspace/src/pytorch_gpu_project/src/inference/timm_inferer_new.py:43\u001b[0m, in \u001b[0;36mTimmInferer.load_model\u001b[0;34m(self, watch_metric, greater_is_better)\u001b[0m\n\u001b[1;32m     41\u001b[0m         \u001b[39mprint\u001b[39m(\u001b[39mf\u001b[39m\u001b[39m\"\u001b[39m\u001b[39mLoaded model: \u001b[39m\u001b[39m{\u001b[39;00m\u001b[39mself\u001b[39m\u001b[39m.\u001b[39mmodel_name\u001b[39m}\u001b[39;00m\u001b[39m from training run: \u001b[39m\u001b[39m{\u001b[39;00mbest_model_info[\u001b[39m'\u001b[39m\u001b[39mmodel_name\u001b[39m\u001b[39m'\u001b[39m]\u001b[39m}\u001b[39;00m\u001b[39m\"\u001b[39m)\n\u001b[1;32m     42\u001b[0m     \u001b[39mexcept\u001b[39;00m:\n\u001b[0;32m---> 43\u001b[0m         \u001b[39mraise\u001b[39;00m \u001b[39mRuntimeError\u001b[39;00m(\u001b[39mf\u001b[39m\u001b[39m\"\u001b[39m\u001b[39mUnable to build best model: \u001b[39m\u001b[39m{\u001b[39;00m\u001b[39mself\u001b[39m\u001b[39m.\u001b[39mmodel_name\u001b[39m}\u001b[39;00m\u001b[39m from train history.\u001b[39m\u001b[39m\"\u001b[39m)\n\u001b[1;32m     44\u001b[0m \u001b[39mreturn\u001b[39;00m model\n",
      "\u001b[0;31mRuntimeError\u001b[0m: Unable to build best model: resnet34 from train history."
     ]
    }
   ],
   "source": [
    "model = timm_inferer.load_model(watch_metric=\"accuracy\", greater_is_better=True)"
   ]
  },
  {
   "cell_type": "code",
   "execution_count": null,
   "metadata": {},
   "outputs": [],
   "source": []
  }
 ],
 "metadata": {
  "kernelspec": {
   "display_name": "Python 3",
   "language": "python",
   "name": "python3"
  },
  "language_info": {
   "codemirror_mode": {
    "name": "ipython",
    "version": 3
   },
   "file_extension": ".py",
   "mimetype": "text/x-python",
   "name": "python",
   "nbconvert_exporter": "python",
   "pygments_lexer": "ipython3",
   "version": "3.9.16"
  },
  "orig_nbformat": 4
 },
 "nbformat": 4,
 "nbformat_minor": 2
}
