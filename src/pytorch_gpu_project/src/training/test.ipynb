{
 "cells": [
  {
   "cell_type": "code",
   "execution_count": 90,
   "metadata": {},
   "outputs": [],
   "source": [
    "import timm\n",
    "from timm.loss import BinaryCrossEntropy\n",
    "from timm.optim import create_optimizer_v2\n",
    "import torch\n",
    "from pytorch_accelerated.callbacks import SaveBestModelCallback\n",
    "from pytorch_accelerated.trainer import DEFAULT_CALLBACKS\n",
    "\n",
    "from src.data.datasets.coin_data import CoinData, CoinDataFolder\n",
    "from src.training.trainer import TimmMixupTrainer"
   ]
  },
  {
   "cell_type": "code",
   "execution_count": 91,
   "metadata": {},
   "outputs": [
    {
     "name": "stdout",
     "output_type": "stream",
     "text": [
      "The autoreload extension is already loaded. To reload it, use:\n",
      "  %reload_ext autoreload\n"
     ]
    }
   ],
   "source": [
    "%matplotlib inline\n",
    "\n",
    "# Enable autoreloading of imported modules.\n",
    "%load_ext autoreload\n",
    "%autoreload 2"
   ]
  },
  {
   "cell_type": "code",
   "execution_count": 92,
   "metadata": {},
   "outputs": [],
   "source": [
    "# Set training arguments, hardcoded here for clarity\n",
    "image_size = (224, 224)\n",
    "lr = 5e-3\n",
    "smoothing = 0.1\n",
    "mixup = 0.2\n",
    "cutmix = 1.0\n",
    "batch_size = 16\n",
    "bce_target_thresh = 0.2\n",
    "num_epochs = 10"
   ]
  },
  {
   "cell_type": "code",
   "execution_count": 93,
   "metadata": {},
   "outputs": [
    {
     "name": "stdout",
     "output_type": "stream",
     "text": [
      "../data/raw/CN_dataset_04_23/data_types_example\n"
     ]
    },
    {
     "name": "stdout",
     "output_type": "stream",
     "text": [
      "[('../data/raw/CN_dataset_04_23/data_types_example/1/CN_type_1_cn_coin_8022_p.jpg', 0), ('../data/raw/CN_dataset_04_23/data_types_example/1/CN_type_1_MK_18203122_cn_coin_6383_o.jpg', 0), ('../data/raw/CN_dataset_04_23/data_types_example/2/CN_type_2_cn_coin_8024_p.jpg', 1), ('../data/raw/CN_dataset_04_23/data_types_example/3/CN_type_3_BNF_Platzhalter_cn_coin_11904_o.jpg', 2), ('../data/raw/CN_dataset_04_23/data_types_example/3/CN_type_3_MK_18247614_cn_coin_6696_o.jpg', 2), ('../data/raw/CN_dataset_04_23/data_types_example/5/CN_type_5_cn_coin_7685_p.jpg', 3), ('../data/raw/CN_dataset_04_23/data_types_example/6/CN_type_6_cn_coin_7686_p.jpg', 4), ('../data/raw/CN_dataset_04_23/data_types_example/8/CN_type_8_cn_coin_7689_p.jpg', 5), ('../data/raw/CN_dataset_04_23/data_types_example/8/CN_type_8_cn_coin_15352_p.jpg', 5), ('../data/raw/CN_dataset_04_23/data_types_example/11/CN_type_11_cn_coin_8036_p.jpg', 6), ('../data/raw/CN_dataset_04_23/data_types_example/11/CN_type_11_MK_18247626_cn_coin_8036_o.jpg', 6), ('../data/raw/CN_dataset_04_23/data_types_example/13/CN_type_13_BNF_FRBNF41826912_cn_coin_7693_o.jpg', 7), ('../data/raw/CN_dataset_04_23/data_types_example/13/CN_type_13_cn_coin_7692_p.jpg', 7), ('../data/raw/CN_dataset_04_23/data_types_example/14/CN_type_14_MK_18247628_cn_coin_6701_o.jpg', 8), ('../data/raw/CN_dataset_04_23/data_types_example/15/CN_type_15_BNF_FRBNF41826908_cn_coin_11907_o.jpg', 9), ('../data/raw/CN_dataset_04_23/data_types_example/15/CN_type_15_cn_coin_7695_p.jpg', 9), ('../data/raw/CN_dataset_04_23/data_types_example/17/CN_type_17_cn_coin_7698_p.jpg', 10), ('../data/raw/CN_dataset_04_23/data_types_example/18/CN_type_18_cn_coin_7700_p.jpg', 11), ('../data/raw/CN_dataset_04_23/data_types_example/19/CN_type_19_cn_coin_7701_p.jpg', 12), ('../data/raw/CN_dataset_04_23/data_types_example/20/CN_type_20_cn_coin_7702_p.jpg', 13), ('../data/raw/CN_dataset_04_23/data_types_example/21/CN_type_21_BNF_582_cn_coin_8025_o.jpg', 14), ('../data/raw/CN_dataset_04_23/data_types_example/21/CN_type_21_cn_coin_8025_p.jpg', 14), ('../data/raw/CN_dataset_04_23/data_types_example/21/CN_type_21_cn_coin_8026_p.jpg', 14), ('../data/raw/CN_dataset_04_23/data_types_example/21/CN_type_21_MK_18239074_cn_coin_6426_o.jpg', 14), ('../data/raw/CN_dataset_04_23/data_types_example/21/CN_type_21_MK_18239075_cn_coin_6427_o.jpg', 14), ('../data/raw/CN_dataset_04_23/data_types_example/21/CN_type_21_MK_18239247_cn_coin_6428_o.jpg', 14), ('../data/raw/CN_dataset_04_23/data_types_example/22/CN_type_22_cn_coin_8023_p.jpg', 15), ('../data/raw/CN_dataset_04_23/data_types_example/23/CN_type_23_BNF_FRBNF41826909_cn_coin_11908_o.jpg', 16), ('../data/raw/CN_dataset_04_23/data_types_example/23/CN_type_23_cn_coin_7704_p.jpg', 16), ('../data/raw/CN_dataset_04_23/data_types_example/23/CN_type_23_MK_18247633_cn_coin_6704_o.jpg', 16), ('../data/raw/CN_dataset_04_23/data_types_example/24/CN_type_24_cn_coin_7703_p.jpg', 17), ('../data/raw/CN_dataset_04_23/data_types_example/25/CN_type_25_cn_coin_8030_p.jpg', 18), ('../data/raw/CN_dataset_04_23/data_types_example/26/CN_type_26_cn_coin_8033_p.jpg', 19), ('../data/raw/CN_dataset_04_23/data_types_example/27/CN_type_27_cn_coin_7705_p.jpg', 20), ('../data/raw/CN_dataset_04_23/data_types_example/30/CN_type_30_cn_coin_7707_p.jpg', 21), ('../data/raw/CN_dataset_04_23/data_types_example/32/CN_type_32_cn_coin_7711_p.jpg', 22), ('../data/raw/CN_dataset_04_23/data_types_example/33/CN_type_33_cn_coin_7712_p.jpg', 23), ('../data/raw/CN_dataset_04_23/data_types_example/34/CN_type_34_cn_coin_7713_p.jpg', 24), ('../data/raw/CN_dataset_04_23/data_types_example/34/CN_type_34_MK_18247693_cn_coin_6708_o.jpg', 24), ('../data/raw/CN_dataset_04_23/data_types_example/35/CN_type_35_MK_18247690_cn_coin_6707_o.jpg', 25), ('../data/raw/CN_dataset_04_23/data_types_example/37/CN_type_37_BNF_FRBNF41826913_cn_coin_11912_o.jpg', 26), ('../data/raw/CN_dataset_04_23/data_types_example/37/CN_type_37_cn_coin_7717_p.jpg', 26), ('../data/raw/CN_dataset_04_23/data_types_example/40/CN_type_40_cn_coin_7720_p.jpg', 27), ('../data/raw/CN_dataset_04_23/data_types_example/41/CN_type_41_cn_coin_8029_p.jpg', 28), ('../data/raw/CN_dataset_04_23/data_types_example/41/CN_type_41_cn_coin_8031_p.jpg', 28), ('../data/raw/CN_dataset_04_23/data_types_example/41/CN_type_41_cn_coin_8032_p.jpg', 28), ('../data/raw/CN_dataset_04_23/data_types_example/42/CN_type_42_cn_coin_8039_p.jpg', 29), ('../data/raw/CN_dataset_04_23/data_types_example/42/CN_type_42_cn_coin_8040_p.jpg', 29), ('../data/raw/CN_dataset_04_23/data_types_example/42/CN_type_42_cn_coin_8041_p.jpg', 29), ('../data/raw/CN_dataset_04_23/data_types_example/42/CN_type_42_cn_coin_8042_p.jpg', 29), ('../data/raw/CN_dataset_04_23/data_types_example/42/CN_type_42_cn_coin_8043_p.jpg', 29), ('../data/raw/CN_dataset_04_23/data_types_example/42/CN_type_42_cn_coin_8044_p.jpg', 29), ('../data/raw/CN_dataset_04_23/data_types_example/42/CN_type_42_MK_18235358_cn_coin_5614_o.jpg', 29), ('../data/raw/CN_dataset_04_23/data_types_example/42/CN_type_42_MK_18239453_cn_coin_6441_o.jpg', 29), ('../data/raw/CN_dataset_04_23/data_types_example/45/CN_type_45_cn_coin_8046_p.jpg', 30), ('../data/raw/CN_dataset_04_23/data_types_example/46/CN_type_46_BNF_Platzhalter_cn_coin_8050_o.jpg', 31), ('../data/raw/CN_dataset_04_23/data_types_example/46/CN_type_46_cn_coin_8047_p.jpg', 31), ('../data/raw/CN_dataset_04_23/data_types_example/46/CN_type_46_cn_coin_8048_p.jpg', 31), ('../data/raw/CN_dataset_04_23/data_types_example/46/CN_type_46_cn_coin_8049_p.jpg', 31), ('../data/raw/CN_dataset_04_23/data_types_example/46/CN_type_46_cn_coin_8050_p.jpg', 31), ('../data/raw/CN_dataset_04_23/data_types_example/46/CN_type_46_cn_coin_8053_p.jpg', 31), ('../data/raw/CN_dataset_04_23/data_types_example/46/CN_type_46_cn_coin_8054_p.jpg', 31), ('../data/raw/CN_dataset_04_23/data_types_example/46/CN_type_46_cn_coin_8055_p.jpg', 31), ('../data/raw/CN_dataset_04_23/data_types_example/46/CN_type_46_MK_18239360_cn_coin_6439_o.jpg', 31), ('../data/raw/CN_dataset_04_23/data_types_example/46/CN_type_46_MK_18239363_cn_coin_6440_o.jpg', 31), ('../data/raw/CN_dataset_04_23/data_types_example/47/CN_type_47_cn_coin_7725_p.jpg', 32), ('../data/raw/CN_dataset_04_23/data_types_example/48/CN_type_48_cn_coin_7726_p.jpg', 33), ('../data/raw/CN_dataset_04_23/data_types_example/49/CN_type_49_cn_coin_8056_p.jpg', 34), ('../data/raw/CN_dataset_04_23/data_types_example/50/CN_type_50_BNF_604_cn_coin_7727_o.jpg', 35), ('../data/raw/CN_dataset_04_23/data_types_example/50/CN_type_50_cn_coin_7727_p.jpg', 35), ('../data/raw/CN_dataset_04_23/data_types_example/51/CN_type_51_BNF_1370_cn_coin_8077_o.jpg', 36), ('../data/raw/CN_dataset_04_23/data_types_example/51/CN_type_51_BNF_1371_cn_coin_8071_o.jpg', 36), ('../data/raw/CN_dataset_04_23/data_types_example/51/CN_type_51_BNF_M 2608_cn_coin_8070_o.jpg', 36), ('../data/raw/CN_dataset_04_23/data_types_example/51/CN_type_51_BNF_R 1364_cn_coin_8076_o.jpg', 36), ('../data/raw/CN_dataset_04_23/data_types_example/51/CN_type_51_cn_coin_8059_p.jpg', 36), ('../data/raw/CN_dataset_04_23/data_types_example/51/CN_type_51_cn_coin_8061_p.jpg', 36), ('../data/raw/CN_dataset_04_23/data_types_example/51/CN_type_51_cn_coin_8062_p.jpg', 36), ('../data/raw/CN_dataset_04_23/data_types_example/51/CN_type_51_cn_coin_8063_p.jpg', 36), ('../data/raw/CN_dataset_04_23/data_types_example/51/CN_type_51_cn_coin_8064_p.jpg', 36), ('../data/raw/CN_dataset_04_23/data_types_example/51/CN_type_51_cn_coin_8066_p.jpg', 36), ('../data/raw/CN_dataset_04_23/data_types_example/51/CN_type_51_cn_coin_8067_p.jpg', 36), ('../data/raw/CN_dataset_04_23/data_types_example/51/CN_type_51_cn_coin_8068_p.jpg', 36), ('../data/raw/CN_dataset_04_23/data_types_example/51/CN_type_51_cn_coin_8069_p.jpg', 36), ('../data/raw/CN_dataset_04_23/data_types_example/51/CN_type_51_cn_coin_8070_p.jpg', 36), ('../data/raw/CN_dataset_04_23/data_types_example/51/CN_type_51_cn_coin_8071_p.jpg', 36), ('../data/raw/CN_dataset_04_23/data_types_example/51/CN_type_51_cn_coin_8072_p.jpg', 36), ('../data/raw/CN_dataset_04_23/data_types_example/51/CN_type_51_cn_coin_8073_p.jpg', 36), ('../data/raw/CN_dataset_04_23/data_types_example/51/CN_type_51_cn_coin_8074_p.jpg', 36), ('../data/raw/CN_dataset_04_23/data_types_example/51/CN_type_51_cn_coin_8075_p.jpg', 36), ('../data/raw/CN_dataset_04_23/data_types_example/51/CN_type_51_cn_coin_8076_p.jpg', 36), ('../data/raw/CN_dataset_04_23/data_types_example/51/CN_type_51_cn_coin_8077_p.jpg', 36), ('../data/raw/CN_dataset_04_23/data_types_example/51/CN_type_51_cn_coin_8078_p.jpg', 36), ('../data/raw/CN_dataset_04_23/data_types_example/51/CN_type_51_MK_18239253_cn_coin_6431_o.jpg', 36), ('../data/raw/CN_dataset_04_23/data_types_example/51/CN_type_51_MK_18239255_cn_coin_6432_o.jpg', 36), ('../data/raw/CN_dataset_04_23/data_types_example/51/CN_type_51_MK_18239354_cn_coin_6435_o.jpg', 36), ('../data/raw/CN_dataset_04_23/data_types_example/51/CN_type_51_MK_18239355_cn_coin_6436_o.jpg', 36), ('../data/raw/CN_dataset_04_23/data_types_example/52/CN_type_52_BNF_Platzhalter_cn_coin_11915_o.jpg', 37), ('../data/raw/CN_dataset_04_23/data_types_example/54/CN_type_54_cn_coin_8087_p.jpg', 38), ('../data/raw/CN_dataset_04_23/data_types_example/54/CN_type_54_cn_coin_8088_p.jpg', 38), ('../data/raw/CN_dataset_04_23/data_types_example/54/CN_type_54_cn_coin_8089_p.jpg', 38), ('../data/raw/CN_dataset_04_23/data_types_example/54/CN_type_54_MK_18239352_cn_coin_6433_o.jpg', 38), ('../data/raw/CN_dataset_04_23/data_types_example/54/CN_type_54_MK_18239358_cn_coin_6437_o.jpg', 38), ('../data/raw/CN_dataset_04_23/data_types_example/54/CN_type_54_MK_18239359_cn_coin_6438_o.jpg', 38), ('../data/raw/CN_dataset_04_23/data_types_example/55/CN_type_55_BNF_Platzhalter_cn_coin_11916_o.jpg', 39), ('../data/raw/CN_dataset_04_23/data_types_example/56/CN_type_56_cn_coin_15458_p.jpg', 40), ('../data/raw/CN_dataset_04_23/data_types_example/58/CN_type_58_BNF_419_cn_coin_7759_o.jpg', 41), ('../data/raw/CN_dataset_04_23/data_types_example/58/CN_type_58_cn_coin_7759_p.jpg', 41), ('../data/raw/CN_dataset_04_23/data_types_example/59/CN_type_59_BNF_Platzhalter_cn_coin_11923_o.jpg', 42), ('../data/raw/CN_dataset_04_23/data_types_example/60/CN_type_60_BNF_1966.453_cn_coin_11902_o.jpg', 43), ('../data/raw/CN_dataset_04_23/data_types_example/60/CN_type_60_BNF_FRBNF41826921_cn_coin_11920_o.jpg', 43), ('../data/raw/CN_dataset_04_23/data_types_example/60/CN_type_60_cn_coin_7738_p.jpg', 43), ('../data/raw/CN_dataset_04_23/data_types_example/60/CN_type_60_cn_coin_7739_p.jpg', 43), ('../data/raw/CN_dataset_04_23/data_types_example/60/CN_type_60_cn_coin_7741_p.jpg', 43), ('../data/raw/CN_dataset_04_23/data_types_example/60/CN_type_60_MK_18247707_cn_coin_6710_o.jpg', 43), ('../data/raw/CN_dataset_04_23/data_types_example/60/CN_type_60_MK_18247708_cn_coin_6711_o.jpg', 43), ('../data/raw/CN_dataset_04_23/data_types_example/61/CN_type_61_BNF_FRBNF41826920_cn_coin_7742_o.jpg', 44), ('../data/raw/CN_dataset_04_23/data_types_example/64/CN_type_64_cn_coin_7745_p.jpg', 45), ('../data/raw/CN_dataset_04_23/data_types_example/64/CN_type_64_MK_18247714_cn_coin_10340_o.jpg', 45), ('../data/raw/CN_dataset_04_23/data_types_example/65/CN_type_65_cn_coin_7746_p.jpg', 46), ('../data/raw/CN_dataset_04_23/data_types_example/65/CN_type_65_MK_18247711_cn_coin_6713_o.jpg', 46), ('../data/raw/CN_dataset_04_23/data_types_example/72/CN_type_72_BNF_FRBNF41826919_cn_coin_11918_o.jpg', 47), ('../data/raw/CN_dataset_04_23/data_types_example/73/CN_type_73_cn_coin_7760_p.jpg', 48), ('../data/raw/CN_dataset_04_23/data_types_example/74/CN_type_74_BNF_Platzhalter_cn_coin_11925_o.jpg', 49), ('../data/raw/CN_dataset_04_23/data_types_example/74/CN_type_74_MK_18247710_cn_coin_6712_o.jpg', 49), ('../data/raw/CN_dataset_04_23/data_types_example/75/CN_type_75_MK_18247728_cn_coin_7765_o.jpg', 50), ('../data/raw/CN_dataset_04_23/data_types_example/77/CN_type_77_BNF_FRBNF41826930_cn_coin_11929_o.jpg', 51), ('../data/raw/CN_dataset_04_23/data_types_example/77/CN_type_77_cn_coin_7769_p.jpg', 51), ('../data/raw/CN_dataset_04_23/data_types_example/77/CN_type_77_MK_18247712_cn_coin_6714_o.jpg', 51), ('../data/raw/CN_dataset_04_23/data_types_example/81/CN_type_81_BNF_FRBNF41826932_cn_coin_11931_o.jpg', 52), ('../data/raw/CN_dataset_04_23/data_types_example/81/CN_type_81_BNF_Platzhalter_cn_coin_11932_o.jpg', 52), ('../data/raw/CN_dataset_04_23/data_types_example/81/CN_type_81_BNF_Platzhalter_cn_coin_11933_o.jpg', 52), ('../data/raw/CN_dataset_04_23/data_types_example/81/CN_type_81_cn_coin_7778_p.jpg', 52), ('../data/raw/CN_dataset_04_23/data_types_example/81/CN_type_81_cn_coin_7779_p.jpg', 52), ('../data/raw/CN_dataset_04_23/data_types_example/81/CN_type_81_MK_18247737_cn_coin_10348_o.jpg', 52), ('../data/raw/CN_dataset_04_23/data_types_example/81/CN_type_81_MK_18247740_cn_coin_10349_o.jpg', 52), ('../data/raw/CN_dataset_04_23/data_types_example/81/CN_type_81_MK_18247849_cn_coin_10354_o.jpg', 52), ('../data/raw/CN_dataset_04_23/data_types_example/81/CN_type_81_MK_18248051_cn_coin_6735_o.jpg', 52), ('../data/raw/CN_dataset_04_23/data_types_example/83/CN_type_83_MK_18247734_cn_coin_6715_o.jpg', 53), ('../data/raw/CN_dataset_04_23/data_types_example/84/CN_type_84_cn_coin_7782_p.jpg', 54), ('../data/raw/CN_dataset_04_23/data_types_example/85/CN_type_85_cn_coin_7783_p.jpg', 55), ('../data/raw/CN_dataset_04_23/data_types_example/85/CN_type_85_MK_18247852_cn_coin_10357_o.jpg', 55), ('../data/raw/CN_dataset_04_23/data_types_example/87/CN_type_87_BNF_Platzhalter_cn_coin_11938_o.jpg', 56), ('../data/raw/CN_dataset_04_23/data_types_example/87/CN_type_87_cn_coin_7787_p.jpg', 56), ('../data/raw/CN_dataset_04_23/data_types_example/87/CN_type_87_MK_18247859_cn_coin_10360_o.jpg', 56), ('../data/raw/CN_dataset_04_23/data_types_example/88/CN_type_88_BNF_Platzhalter_cn_coin_11939_o.jpg', 57), ('../data/raw/CN_dataset_04_23/data_types_example/88/CN_type_88_cn_coin_7788_p.jpg', 57), ('../data/raw/CN_dataset_04_23/data_types_example/90/CN_type_90_cn_coin_7791_p.jpg', 58), ('../data/raw/CN_dataset_04_23/data_types_example/90/CN_type_90_MK_18247936_cn_coin_10373_o.jpg', 58), ('../data/raw/CN_dataset_04_23/data_types_example/92/CN_type_92_MK_18247887_cn_coin_18743_o.jpg', 59), ('../data/raw/CN_dataset_04_23/data_types_example/95/CN_type_95_BNF_FRBNF41826937_cn_coin_11936_o.jpg', 60), ('../data/raw/CN_dataset_04_23/data_types_example/97/CN_type_97_cn_coin_7795_p.jpg', 61), ('../data/raw/CN_dataset_04_23/data_types_example/97/CN_type_97_MK_18247928_cn_coin_10368_o.jpg', 61), ('../data/raw/CN_dataset_04_23/data_types_example/97/CN_type_97_MK_18247933_cn_coin_10371_o.jpg', 61), ('../data/raw/CN_dataset_04_23/data_types_example/98/CN_type_98_BNF_536_cn_coin_7798_o.jpg', 62), ('../data/raw/CN_dataset_04_23/data_types_example/99/CN_type_99_cn_coin_7799_p.jpg', 63), ('../data/raw/CN_dataset_04_23/data_types_example/100/CN_type_100_cn_coin_7800_p.jpg', 64)]\n"
     ]
    }
   ],
   "source": [
    "# load data\n",
    "coin_data = CoinData()\n",
    "num_classes = len(coin_data.images_and_targets)"
   ]
  },
  {
   "cell_type": "code",
   "execution_count": 94,
   "metadata": {},
   "outputs": [],
   "source": [
    "mixup_args = dict(\n",
    "    mixup_alpha=mixup,\n",
    "    cutmix_alpha=cutmix,\n",
    "    label_smoothing=smoothing,\n",
    "    num_classes=num_classes,\n",
    ")"
   ]
  },
  {
   "cell_type": "code",
   "execution_count": 95,
   "metadata": {},
   "outputs": [],
   "source": [
    "# Create model using timm\n",
    "model = timm.create_model(\n",
    "    \"resnet50d\", pretrained=False, num_classes=num_classes, drop_path_rate=0.05\n",
    ")"
   ]
  },
  {
   "cell_type": "code",
   "execution_count": 96,
   "metadata": {},
   "outputs": [],
   "source": [
    "# Load data config associated with the model to use in data augmentation pipeline\n",
    "data_config = timm.data.resolve_data_config({}, model=model, verbose=True)\n",
    "data_mean = data_config[\"mean\"]\n",
    "data_std = data_config[\"std\"]"
   ]
  },
  {
   "cell_type": "code",
   "execution_count": 97,
   "metadata": {},
   "outputs": [],
   "source": [
    "train_dataset, eval_dataset = coin_data.generate_train_val_datasets(val_pct=0.3, image_size=image_size, data_mean=data_mean, data_std=data_std)"
   ]
  },
  {
   "cell_type": "code",
   "execution_count": 98,
   "metadata": {},
   "outputs": [],
   "source": [
    "# Create optimizer\n",
    "optimizer = create_optimizer_v2(\n",
    "    model, opt=\"RMSprop\", lr=lr, weight_decay=0.01\n",
    ")"
   ]
  },
  {
   "cell_type": "code",
   "execution_count": 99,
   "metadata": {},
   "outputs": [
    {
     "data": {
      "text/plain": [
       "RMSprop (\n",
       "Parameter Group 0\n",
       "    alpha: 0.9\n",
       "    centered: False\n",
       "    differentiable: False\n",
       "    eps: 1e-08\n",
       "    foreach: None\n",
       "    lr: 0.005\n",
       "    maximize: False\n",
       "    momentum: 0.9\n",
       "    weight_decay: 0.0\n",
       "\n",
       "Parameter Group 1\n",
       "    alpha: 0.9\n",
       "    centered: False\n",
       "    differentiable: False\n",
       "    eps: 1e-08\n",
       "    foreach: None\n",
       "    lr: 0.005\n",
       "    maximize: False\n",
       "    momentum: 0.9\n",
       "    weight_decay: 0.01\n",
       ")"
      ]
     },
     "execution_count": 99,
     "metadata": {},
     "output_type": "execute_result"
    }
   ],
   "source": [
    "optimizer"
   ]
  },
  {
   "cell_type": "code",
   "execution_count": 100,
   "metadata": {},
   "outputs": [],
   "source": [
    "# As we are using Mixup, we can use BCE during training and CE for evaluation\n",
    "train_loss_fn = BinaryCrossEntropy(\n",
    "    target_threshold=bce_target_thresh, smoothing=smoothing\n",
    ")\n",
    "validate_loss_fn = torch.nn.CrossEntropyLoss()"
   ]
  },
  {
   "cell_type": "code",
   "execution_count": 101,
   "metadata": {},
   "outputs": [],
   "source": [
    "# Create trainer and start training\n",
    "trainer = TimmMixupTrainer(\n",
    "    model=model,\n",
    "    optimizer=optimizer,\n",
    "    loss_func=train_loss_fn,\n",
    "    eval_loss_fn=validate_loss_fn,\n",
    "    mixup_args=mixup_args,\n",
    "    num_classes=num_classes,\n",
    "    callbacks=[\n",
    "        *DEFAULT_CALLBACKS,\n",
    "        SaveBestModelCallback(watch_metric=\"accuracy\", greater_is_better=True),\n",
    "    ],\n",
    ")"
   ]
  },
  {
   "cell_type": "code",
   "execution_count": 102,
   "metadata": {},
   "outputs": [
    {
     "name": "stdout",
     "output_type": "stream",
     "text": [
      "\n",
      "Starting training run\n",
      "\n",
      "Starting epoch 1\n"
     ]
    },
    {
     "name": "stderr",
     "output_type": "stream",
     "text": [
      "100%|██████████| 7/7 [00:03<00:00,  2.19it/s]\n"
     ]
    },
    {
     "name": "stdout",
     "output_type": "stream",
     "text": [
      "\n",
      "train_loss_epoch: 0.3571896553039551\n"
     ]
    },
    {
     "name": "stderr",
     "output_type": "stream",
     "text": [
      "100%|██████████| 3/3 [00:01<00:00,  2.75it/s]\n"
     ]
    },
    {
     "name": "stdout",
     "output_type": "stream",
     "text": [
      "\n",
      "ema_model_accuracy: 0.0\n",
      "\n",
      "accuracy: 0.17391304671764374\n",
      "\n",
      "eval_loss_epoch: 4.99569034576416\n",
      "\n",
      "Starting epoch 2\n"
     ]
    },
    {
     "name": "stderr",
     "output_type": "stream",
     "text": [
      "100%|██████████| 7/7 [00:02<00:00,  2.60it/s]\n"
     ]
    },
    {
     "name": "stdout",
     "output_type": "stream",
     "text": [
      "\n",
      "train_loss_epoch: 0.35857322812080383\n"
     ]
    },
    {
     "name": "stderr",
     "output_type": "stream",
     "text": [
      "100%|██████████| 3/3 [00:01<00:00,  2.81it/s]\n"
     ]
    },
    {
     "name": "stdout",
     "output_type": "stream",
     "text": [
      "\n",
      "ema_model_accuracy: 0.043478261679410934\n",
      "\n",
      "accuracy: 0.043478261679410934\n",
      "\n",
      "eval_loss_epoch: 1551.0035400390625\n",
      "\n",
      "Starting epoch 3\n"
     ]
    },
    {
     "name": "stderr",
     "output_type": "stream",
     "text": [
      "100%|██████████| 7/7 [00:02<00:00,  2.60it/s]\n"
     ]
    },
    {
     "name": "stdout",
     "output_type": "stream",
     "text": [
      "\n",
      "train_loss_epoch: 0.6006650328636169\n"
     ]
    },
    {
     "name": "stderr",
     "output_type": "stream",
     "text": [
      "100%|██████████| 3/3 [00:01<00:00,  2.42it/s]\n"
     ]
    },
    {
     "name": "stdout",
     "output_type": "stream",
     "text": [
      "\n",
      "ema_model_accuracy: 0.08695652335882187\n",
      "\n",
      "accuracy: 0.0\n",
      "\n",
      "eval_loss_epoch: 5615.0390625\n",
      "\n",
      "Starting epoch 4\n"
     ]
    },
    {
     "name": "stderr",
     "output_type": "stream",
     "text": [
      "100%|██████████| 7/7 [00:02<00:00,  2.58it/s]\n"
     ]
    },
    {
     "name": "stdout",
     "output_type": "stream",
     "text": [
      "\n",
      "train_loss_epoch: 0.07354910671710968\n"
     ]
    },
    {
     "name": "stderr",
     "output_type": "stream",
     "text": [
      "100%|██████████| 3/3 [00:01<00:00,  2.71it/s]\n"
     ]
    },
    {
     "name": "stdout",
     "output_type": "stream",
     "text": [
      "\n",
      "ema_model_accuracy: 0.17391304671764374\n",
      "\n",
      "accuracy: 0.043478261679410934\n",
      "\n",
      "eval_loss_epoch: 4.716425895690918\n",
      "\n",
      "Starting epoch 5\n"
     ]
    },
    {
     "name": "stderr",
     "output_type": "stream",
     "text": [
      "100%|██████████| 7/7 [00:02<00:00,  2.52it/s]\n"
     ]
    },
    {
     "name": "stdout",
     "output_type": "stream",
     "text": [
      "\n",
      "train_loss_epoch: 0.07665299624204636\n"
     ]
    },
    {
     "name": "stderr",
     "output_type": "stream",
     "text": [
      "100%|██████████| 3/3 [00:01<00:00,  2.62it/s]\n"
     ]
    },
    {
     "name": "stdout",
     "output_type": "stream",
     "text": [
      "\n",
      "ema_model_accuracy: 0.17391304671764374\n",
      "\n",
      "accuracy: 0.021739130839705467\n",
      "\n",
      "eval_loss_epoch: 5.092090129852295\n",
      "\n",
      "Starting epoch 6\n"
     ]
    },
    {
     "name": "stderr",
     "output_type": "stream",
     "text": [
      "100%|██████████| 7/7 [00:02<00:00,  2.42it/s]\n"
     ]
    },
    {
     "name": "stdout",
     "output_type": "stream",
     "text": [
      "\n",
      "train_loss_epoch: 0.08072541654109955\n"
     ]
    },
    {
     "name": "stderr",
     "output_type": "stream",
     "text": [
      "100%|██████████| 3/3 [00:01<00:00,  2.67it/s]\n"
     ]
    },
    {
     "name": "stdout",
     "output_type": "stream",
     "text": [
      "\n",
      "ema_model_accuracy: 0.17391304671764374\n",
      "\n",
      "accuracy: 0.043478261679410934\n",
      "\n",
      "eval_loss_epoch: 4.5323381423950195\n",
      "\n",
      "Starting epoch 7\n"
     ]
    },
    {
     "name": "stderr",
     "output_type": "stream",
     "text": [
      "100%|██████████| 7/7 [00:02<00:00,  2.42it/s]\n"
     ]
    },
    {
     "name": "stdout",
     "output_type": "stream",
     "text": [
      "\n",
      "train_loss_epoch: 0.052062150090932846\n"
     ]
    },
    {
     "name": "stderr",
     "output_type": "stream",
     "text": [
      "100%|██████████| 3/3 [00:01<00:00,  2.59it/s]\n"
     ]
    },
    {
     "name": "stdout",
     "output_type": "stream",
     "text": [
      "\n",
      "ema_model_accuracy: 0.17391304671764374\n",
      "\n",
      "accuracy: 0.17391304671764374\n",
      "\n",
      "eval_loss_epoch: 4.613162517547607\n",
      "\n",
      "Starting epoch 8\n"
     ]
    },
    {
     "name": "stderr",
     "output_type": "stream",
     "text": [
      "100%|██████████| 7/7 [00:02<00:00,  2.45it/s]\n"
     ]
    },
    {
     "name": "stdout",
     "output_type": "stream",
     "text": [
      "\n",
      "train_loss_epoch: 0.05658640339970589\n"
     ]
    },
    {
     "name": "stderr",
     "output_type": "stream",
     "text": [
      "100%|██████████| 3/3 [00:01<00:00,  2.60it/s]\n"
     ]
    },
    {
     "name": "stdout",
     "output_type": "stream",
     "text": [
      "\n",
      "ema_model_accuracy: 0.17391304671764374\n",
      "\n",
      "accuracy: 0.17391304671764374\n",
      "\n",
      "eval_loss_epoch: 4.565769195556641\n",
      "\n",
      "Starting epoch 9\n"
     ]
    },
    {
     "name": "stderr",
     "output_type": "stream",
     "text": [
      "100%|██████████| 7/7 [00:02<00:00,  2.45it/s]\n"
     ]
    },
    {
     "name": "stdout",
     "output_type": "stream",
     "text": [
      "\n",
      "train_loss_epoch: 0.04543003439903259\n"
     ]
    },
    {
     "name": "stderr",
     "output_type": "stream",
     "text": [
      "100%|██████████| 3/3 [00:01<00:00,  2.59it/s]\n"
     ]
    },
    {
     "name": "stdout",
     "output_type": "stream",
     "text": [
      "\n",
      "ema_model_accuracy: 0.17391304671764374\n",
      "\n",
      "accuracy: 0.17391304671764374\n",
      "\n",
      "eval_loss_epoch: 4.5083489418029785\n",
      "\n",
      "Starting epoch 10\n"
     ]
    },
    {
     "name": "stderr",
     "output_type": "stream",
     "text": [
      "100%|██████████| 7/7 [00:02<00:00,  2.41it/s]\n"
     ]
    },
    {
     "name": "stdout",
     "output_type": "stream",
     "text": [
      "\n",
      "train_loss_epoch: 0.049835123121738434\n"
     ]
    },
    {
     "name": "stderr",
     "output_type": "stream",
     "text": [
      "100%|██████████| 3/3 [00:01<00:00,  2.60it/s]\n"
     ]
    },
    {
     "name": "stdout",
     "output_type": "stream",
     "text": [
      "\n",
      "ema_model_accuracy: 0.17391304671764374\n",
      "\n",
      "accuracy: 0.17391304671764374\n",
      "\n",
      "eval_loss_epoch: 4.499942779541016\n",
      "Finishing training run\n",
      "Loading checkpoint with accuracy: 0.17391304671764374 from epoch 1\n"
     ]
    }
   ],
   "source": [
    "trainer.train(\n",
    "        per_device_batch_size=batch_size,\n",
    "        train_dataset=train_dataset,\n",
    "        eval_dataset=eval_dataset,\n",
    "        num_epochs=num_epochs,\n",
    "        create_scheduler_fn=trainer.create_scheduler,\n",
    "    )"
   ]
  },
  {
   "cell_type": "code",
   "execution_count": 104,
   "metadata": {},
   "outputs": [
    {
     "name": "stdout",
     "output_type": "stream",
     "text": [
      "\n",
      "Starting evaluation run\n"
     ]
    },
    {
     "name": "stderr",
     "output_type": "stream",
     "text": [
      "100%|██████████| 6/6 [00:01<00:00,  3.59it/s]"
     ]
    },
    {
     "name": "stdout",
     "output_type": "stream",
     "text": [
      "\n",
      "ema_model_accuracy: 0.17391304671764374\n",
      "\n",
      "accuracy: 0.17391304671764374\n",
      "\n",
      "evaluation_loss: 4.995690822601318\n",
      "Finishing evaluation run\n"
     ]
    },
    {
     "name": "stderr",
     "output_type": "stream",
     "text": [
      "\n"
     ]
    }
   ],
   "source": [
    "trainer.evaluate(dataset=eval_dataset) "
   ]
  },
  {
   "cell_type": "code",
   "execution_count": 109,
   "metadata": {},
   "outputs": [],
   "source": [
    "checkpoint = torch.load(f=\"../training/best_model.pt\", map_location=torch.device('cpu'))"
   ]
  },
  {
   "cell_type": "code",
   "execution_count": 111,
   "metadata": {},
   "outputs": [
    {
     "data": {
      "text/plain": [
       "dict_keys(['model_state_dict', 'optimizer_state_dict', 'accuracy'])"
      ]
     },
     "execution_count": 111,
     "metadata": {},
     "output_type": "execute_result"
    }
   ],
   "source": [
    "checkpoint.keys()"
   ]
  }
 ],
 "metadata": {
  "kernelspec": {
   "display_name": "Python 3",
   "language": "python",
   "name": "python3"
  },
  "language_info": {
   "codemirror_mode": {
    "name": "ipython",
    "version": 3
   },
   "file_extension": ".py",
   "mimetype": "text/x-python",
   "name": "python",
   "nbconvert_exporter": "python",
   "pygments_lexer": "ipython3",
   "version": "3.9.16"
  },
  "orig_nbformat": 4
 },
 "nbformat": 4,
 "nbformat_minor": 2
}
